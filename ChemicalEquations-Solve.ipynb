{
 "cells": [
  {
   "cell_type": "markdown",
   "metadata": {},
   "source": [
    "# Quiz 2 : Continuation \n",
    "## S.Bhuvanesh\n",
    "## 2018113002"
   ]
  },
  {
   "cell_type": "code",
   "execution_count": 18,
   "metadata": {},
   "outputs": [],
   "source": [
    "import numpy as np\n",
    "import sympy\n",
    "import re #RegEx : To convert string into workable form"
   ]
  },
  {
   "cell_type": "markdown",
   "metadata": {},
   "source": [
    "# Solve a given chemical equation"
   ]
  },
  {
   "cell_type": "markdown",
   "metadata": {},
   "source": [
    "## Task-1: Design a input scheme for the user to input a chemical equation that need to be balanced.\n",
    "\n"
   ]
  },
  {
   "cell_type": "code",
   "execution_count": 49,
   "metadata": {},
   "outputs": [
    {
     "name": "stdout",
     "output_type": "stream",
     "text": [
      "H2 + O2 = H2O\n"
     ]
    }
   ],
   "source": [
    "rawString = input()"
   ]
  },
  {
   "cell_type": "code",
   "execution_count": 106,
   "metadata": {},
   "outputs": [
    {
     "name": "stdout",
     "output_type": "stream",
     "text": [
      "H2 + O2 = H2O                                                      \n",
      "['H' 'O']\n",
      "['H2', 'O2']\n",
      "['H2O']\n",
      "2\n",
      "1\n",
      "[]\n",
      "[[0. 0.]]\n"
     ]
    },
    {
     "ename": "ValueError",
     "evalue": "all the input array dimensions except for the concatenation axis must match exactly",
     "output_type": "error",
     "traceback": [
      "\u001b[0;31m---------------------------------------------------------------------------\u001b[0m",
      "\u001b[0;31mValueError\u001b[0m                                Traceback (most recent call last)",
      "\u001b[0;32m<ipython-input-106-9887f38187fd>\u001b[0m in \u001b[0;36m<module>\u001b[0;34m()\u001b[0m\n\u001b[1;32m     57\u001b[0m         \u001b[0;32melse\u001b[0m\u001b[0;34m:\u001b[0m\u001b[0;34m\u001b[0m\u001b[0;34m\u001b[0m\u001b[0m\n\u001b[1;32m     58\u001b[0m             \u001b[0mtempVect\u001b[0m\u001b[0;34m[\u001b[0m\u001b[0;36m0\u001b[0m\u001b[0;34m]\u001b[0m\u001b[0;34m[\u001b[0m\u001b[0mdicEle\u001b[0m\u001b[0;34m[\u001b[0m\u001b[0mk\u001b[0m\u001b[0;34m]\u001b[0m\u001b[0;34m]\u001b[0m \u001b[0;34m=\u001b[0m \u001b[0;36m1\u001b[0m\u001b[0;34m\u001b[0m\u001b[0;34m\u001b[0m\u001b[0m\n\u001b[0;32m---> 59\u001b[0;31m     \u001b[0mLHSvects\u001b[0m \u001b[0;34m=\u001b[0m \u001b[0mnp\u001b[0m\u001b[0;34m.\u001b[0m\u001b[0mappend\u001b[0m\u001b[0;34m(\u001b[0m\u001b[0mLHSvects\u001b[0m\u001b[0;34m,\u001b[0m\u001b[0mtempVect\u001b[0m\u001b[0;34m,\u001b[0m\u001b[0maxis\u001b[0m\u001b[0;34m=\u001b[0m\u001b[0;36m0\u001b[0m\u001b[0;34m)\u001b[0m\u001b[0;34m\u001b[0m\u001b[0;34m\u001b[0m\u001b[0m\n\u001b[0m\u001b[1;32m     60\u001b[0m     \u001b[0;31m#LHSvects = np.concatenate(LHSvects,tempVect)\u001b[0m\u001b[0;34m\u001b[0m\u001b[0;34m\u001b[0m\u001b[0;34m\u001b[0m\u001b[0m\n\u001b[1;32m     61\u001b[0m     \u001b[0;31m#print(LHS[i])\u001b[0m\u001b[0;34m\u001b[0m\u001b[0;34m\u001b[0m\u001b[0;34m\u001b[0m\u001b[0m\n",
      "\u001b[0;32m~/Softwares/anaconda3/lib/python3.7/site-packages/numpy/lib/function_base.py\u001b[0m in \u001b[0;36mappend\u001b[0;34m(arr, values, axis)\u001b[0m\n\u001b[1;32m   4526\u001b[0m         \u001b[0mvalues\u001b[0m \u001b[0;34m=\u001b[0m \u001b[0mravel\u001b[0m\u001b[0;34m(\u001b[0m\u001b[0mvalues\u001b[0m\u001b[0;34m)\u001b[0m\u001b[0;34m\u001b[0m\u001b[0;34m\u001b[0m\u001b[0m\n\u001b[1;32m   4527\u001b[0m         \u001b[0maxis\u001b[0m \u001b[0;34m=\u001b[0m \u001b[0marr\u001b[0m\u001b[0;34m.\u001b[0m\u001b[0mndim\u001b[0m\u001b[0;34m-\u001b[0m\u001b[0;36m1\u001b[0m\u001b[0;34m\u001b[0m\u001b[0;34m\u001b[0m\u001b[0m\n\u001b[0;32m-> 4528\u001b[0;31m     \u001b[0;32mreturn\u001b[0m \u001b[0mconcatenate\u001b[0m\u001b[0;34m(\u001b[0m\u001b[0;34m(\u001b[0m\u001b[0marr\u001b[0m\u001b[0;34m,\u001b[0m \u001b[0mvalues\u001b[0m\u001b[0;34m)\u001b[0m\u001b[0;34m,\u001b[0m \u001b[0maxis\u001b[0m\u001b[0;34m=\u001b[0m\u001b[0maxis\u001b[0m\u001b[0;34m)\u001b[0m\u001b[0;34m\u001b[0m\u001b[0;34m\u001b[0m\u001b[0m\n\u001b[0m",
      "\u001b[0;31mValueError\u001b[0m: all the input array dimensions except for the concatenation axis must match exactly"
     ]
    }
   ],
   "source": [
    "#First finding all the unique elements in the whole equation:\n",
    "print(rawString)\n",
    "rawString = rawString + \" \"\n",
    "temp=[]\n",
    "elements = re.findall(\"[A-Z][^A-Z]*\",rawString)\n",
    "for i in elements :\n",
    "    if len(i) > 1 and (re.search(\"[^a-z]\",i[1])) :\n",
    "        temp = np.append(temp,i[0])\n",
    "    else :\n",
    "        temp = np.append(temp,i)\n",
    "elements = np.unique(temp)\n",
    "\n",
    "print(elements)\n",
    "noEle = elements.size # Number of unique elements in the equation\n",
    "\n",
    "#Let us assign a dimension number to each of the element present in the equation:\n",
    "dicEle = {}\n",
    "for i in range(noEle):\n",
    "    dicEle[elements[i]] = i\n",
    "\n",
    "\n",
    "#Now each molecule in our equation would be represented by a noEle dimensional vector with value equal to the number\n",
    "# of atoms of that element in that molecule:\n",
    "\n",
    "#Spliting the input String into LHS and RHS :\n",
    "\n",
    "LHS = rawString.split('=')[0]\n",
    "RHS = rawString.split('=')[1]\n",
    "\n",
    "LHS = re.findall(\"[A-Za-z1-9]+\",LHS)\n",
    "print(LHS)\n",
    "\n",
    "\n",
    "RHS = re.findall(\"[A-Za-z1-9]+\",RHS)\n",
    "print(RHS)\n",
    "\n",
    "noLHS = len(LHS) #number of vectors in \n",
    "noRHS = len(RHS)\n",
    "print(noLHS) #number of reactants\n",
    "print(noRHS) #number of products \n",
    "\n",
    "#For Each reactant or molecule , let us declare an np.array as a vector\n",
    "\n",
    "LHSvects = np.array([])\n",
    "LHSvects = np.array([LHSvects])\n",
    "RHSvects = np.array([[]])\n",
    "print(LHSvects)\n",
    "for i in range(noLHS):\n",
    "    tempVect = np.zeros((noEle))\n",
    "    tempVect = np.array([tempVect])\n",
    "    print(tempVect)\n",
    "    components = re.findall(\"[A-Z][^A-Z]*\" ,LHS[i])\n",
    "    #print(components)\n",
    "    for k in components:\n",
    "        if k[-1].isdigit():\n",
    "            tempVect[0][dicEle[k[:-1]]] = int(k[-1])\n",
    "        else:\n",
    "            tempVect[0][dicEle[k]] = 1\n",
    "    LHSvects = np.append(LHSvects,tempVect,axis=0)\n",
    "    #LHSvects = np.concatenate(LHSvects,tempVect)\n",
    "    #print(LHS[i])\n",
    "    #print(tempVect)\n",
    "\n",
    "for i in range(noRHS):\n",
    "    tempVect = np.zeros(noEle)\n",
    "    components = re.findall(\"[A-Z][^A-Z]*\" ,RHS[i])\n",
    "    #print(components)\n",
    "    for k in components:\n",
    "        if k[-1].isdigit():\n",
    "            tempVect[dicEle[k[:-1]]] = int(k[-1])\n",
    "        else:\n",
    "            tempVect[dicEle[k]] = 1\n",
    "    RHSvects = np.append(RHSvects,tempVect)\n",
    "    #print(tempVect)\n",
    "print(LHSvects)\n",
    "print(RHSvects)"
   ]
  },
  {
   "cell_type": "code",
   "execution_count": null,
   "metadata": {},
   "outputs": [],
   "source": []
  },
  {
   "cell_type": "markdown",
   "metadata": {},
   "source": [
    "## Task-2: From the input, get into a form that is suitable for mathematical manipulations\n",
    "\n",
    " HINT: consider using sympy.\n",
    "\n",
    "1. Lets say that you have atom types $A_1, A_2, \\cdots A_N$. \n",
    "2. Write each chemical component as a $N$ dimensional vector \n",
    "3. Suppose the balanced the chemical reaction is where $R_i$ are reactants and $P_i$ are products, and we require that $r_i$ and $p_i$ be integers... \n",
    "$$ r_1 R_1 + r_2 R_2 +\\cdots - (p_1 P_1 + p_1 P_2 ) = 0$$ \n",
    "3. Set up a system of $N$ simulatneous equations, and solve for it to get $r_i$ and $p_i$\n",
    "4. What are the conditions under which there is NO solution? "
   ]
  },
  {
   "cell_type": "code",
   "execution_count": null,
   "metadata": {},
   "outputs": [],
   "source": []
  },
  {
   "cell_type": "code",
   "execution_count": null,
   "metadata": {},
   "outputs": [],
   "source": []
  },
  {
   "cell_type": "markdown",
   "metadata": {},
   "source": [
    "## Task-3: Using the solution above, output the balanced equation"
   ]
  },
  {
   "cell_type": "code",
   "execution_count": null,
   "metadata": {},
   "outputs": [],
   "source": []
  },
  {
   "cell_type": "code",
   "execution_count": null,
   "metadata": {},
   "outputs": [],
   "source": []
  },
  {
   "cell_type": "markdown",
   "metadata": {},
   "source": [
    "## Task-4: If the above is working, can you wrap the whole program in a single function, which will take the input and give the proper output?\n",
    "\n",
    "Given the string 'eqn', the output of the function that you will write, called BalanceChemicalEquation(eqn), will be the balanced chemical equation or a proper error"
   ]
  },
  {
   "cell_type": "code",
   "execution_count": null,
   "metadata": {},
   "outputs": [],
   "source": []
  }
 ],
 "metadata": {
  "kernelspec": {
   "display_name": "Python 3",
   "language": "python",
   "name": "python3"
  },
  "language_info": {
   "codemirror_mode": {
    "name": "ipython",
    "version": 3
   },
   "file_extension": ".py",
   "mimetype": "text/x-python",
   "name": "python",
   "nbconvert_exporter": "python",
   "pygments_lexer": "ipython3",
   "version": "3.7.2"
  }
 },
 "nbformat": 4,
 "nbformat_minor": 2
}
