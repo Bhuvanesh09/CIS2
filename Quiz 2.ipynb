{
 "cells": [
  {
   "cell_type": "markdown",
   "metadata": {},
   "source": [
    "# Quiz 2 : March 18th \n",
    "## 2018113002\n",
    "## S Bhuvanesh"
   ]
  },
  {
   "cell_type": "raw",
   "metadata": {},
   "source": [
    "markdown 20\n",
    "examples 10\n",
    "code 15\n",
    "docstring 10\n",
    "commenting 15\n",
    "graph 15\n",
    "soln 15"
   ]
  },
  {
   "cell_type": "markdown",
   "metadata": {},
   "source": [
    "internet has not been used for any information in the duration of this quiz"
   ]
  },
  {
   "cell_type": "markdown",
   "metadata": {},
   "source": [
    "#### Importing all the necessary libraries:"
   ]
  },
  {
   "cell_type": "code",
   "execution_count": 4,
   "metadata": {},
   "outputs": [],
   "source": [
    "%matplotlib inline\n",
    "import numpy\n",
    "import sympy\n",
    "import matplotlib.pyplot\n",
    "import math\n",
    "from sympy.solvers import solve\n",
    "from sympy import Symbol"
   ]
  },
  {
   "cell_type": "markdown",
   "metadata": {},
   "source": [
    "## Initial Idea\n",
    "Let us start by trying to balance very specific and simple examples of chemical equations using sympy:\n",
    "We declare the molecules as sympy symbols and make many linear equations and then try to solve them."
   ]
  },
  {
   "cell_type": "markdown",
   "metadata": {},
   "source": [
    "Lets try to Solve:\n",
    "\n",
    "$x_1AB + x_2CD = x_3AD_2 + x_4C_2B$\n",
    "\n",
    "Since there are only 2 variables in the following equation out of which one is independent since we can always multiply a balanced equation to get another balanced equation, There is only 1 variable to work with.\n",
    "\n",
    "$AB + x_2CD = AD_2 + (x_2\\div2)C_2B$"
   ]
  },
  {
   "cell_type": "code",
   "execution_count": 14,
   "metadata": {},
   "outputs": [
    {
     "data": {
      "text/plain": [
       "([x2], {(2,)})"
      ]
     },
     "execution_count": 14,
     "metadata": {},
     "output_type": "execute_result"
    }
   ],
   "source": [
    "# AB + CD -> AD2 + C2B\n",
    "#Following symbols are atoms \n",
    "A = Symbol('A')\n",
    "B = Symbol('B')\n",
    "C = Symbol('C')\n",
    "D = Symbol('D')\n",
    "#Following are their coefficients\n",
    "x1 = Symbol('x1')\n",
    "x2 = Symbol('x2')\n",
    "x3 = Symbol('x3')\n",
    "x4 = Symbol('x4')\n",
    "\n",
    "\n",
    "LHS = (A+B) + x2*(C+D) \n",
    "RHS = (A + 2*D) + (x2/2)*(C*2 + B)\n",
    "expr = LHS - RHS\n",
    "solve(expr,x2,set=True)"
   ]
  },
  {
   "cell_type": "markdown",
   "metadata": {},
   "source": [
    "Hence, we have found that $x_2=2$ therefore the balanced equation is:\n",
    "\n",
    "$AB + 2CD = AD_2 + C_2B$"
   ]
  },
  {
   "cell_type": "markdown",
   "metadata": {},
   "source": [
    "Let us try to solve an equation where the answer is not that simple :\n",
    "    \n",
    "$AB_3 + C_2D \\rightarrow A_2D_3 + CB $"
   ]
  },
  {
   "cell_type": "code",
   "execution_count": 24,
   "metadata": {},
   "outputs": [
    {
     "name": "stdout",
     "output_type": "stream",
     "text": [
      "[1.50000000000000]\n"
     ]
    }
   ],
   "source": [
    "#Following symbols are atoms \n",
    "A = Symbol('A')\n",
    "B = Symbol('B')\n",
    "C = Symbol('C')\n",
    "D = Symbol('D')\n",
    "#Following are their coefficients\n",
    "x1 = Symbol('x1')\n",
    "x2 = Symbol('x2')\n",
    "x3 = Symbol('x3')\n",
    "x4 = Symbol('x4')\n",
    "\n",
    "\n",
    "LHS = 1*(A+3*B) + x2*(C*2+D) \n",
    "RHS = (1/2)*(2*A + 3*D) + (2*x2)*(C + B)\n",
    "expr = LHS - RHS\n",
    "x2val = solve(expr,x2)\n",
    "print(x2val)"
   ]
  },
  {
   "cell_type": "markdown",
   "metadata": {},
   "source": [
    "### We see that taking x1 = 1 , may give us fractional value for x2 which reveals to us that the coefficient x1 might not be 1.\n",
    "Hence we multiply x2 and x1 until we get an integral value for x2.\n",
    "\n",
    "> int k = 1\n",
    "while(x2val != integer) {\n",
    "    x2val *= k\n",
    "    \n",
    ">   x1val *= k\n",
    "\n",
    "\n",
    ">    k++\n",
    "}\n",
    "\n",
    "Then we take out the common factors..\n",
    "\n",
    "Hence the Solution for the above chemical equation will be:\n",
    "\n",
    "    \n",
    "$2AB_3 + 3C_2D \\rightarrow A_2D_3 + 6CB $"
   ]
  },
  {
   "cell_type": "markdown",
   "metadata": {},
   "source": [
    "### Making the function a little more generalised :\n",
    "\n",
    "We assume that our chemical equation to solve has 4 Molcules and it is a displacement reaction:"
   ]
  },
  {
   "cell_type": "code",
   "execution_count": null,
   "metadata": {},
   "outputs": [],
   "source": [
    "def solve1(cor1_1,cor1_2,cor2_1,cor2_2,cor3_1,cor3_2,cor4_1,cor4_2):\n",
    "    '''The input data is interpreted as follows:\n",
    "    first molecule is of the form : \n",
    "    A*(cor1_1)b*(cor1_2) and so on'''\n",
    "    #Following symbols are atoms \n",
    "    A = Symbol('A')\n",
    "    B = Symbol('B')\n",
    "    C = Symbol('C')\n",
    "    D = Symbol('D')\n",
    "    #Following are their coefficients\n",
    "    x1 = Symbol('x1')\n",
    "    x2 = Symbol('x2')\n",
    "    x3 = Symbol('x3')\n",
    "    x4 = Symbol('x4')\n",
    "\n",
    "\n",
    "    LHS = 1*(cor1_1*A+cor1_2*B) + x2*(cor2_1*C+cor2_2*D) \n",
    "    RHS = (cor3_1/cor1_1)*(cor3_1*A + cor3_2*D) + (x2)*(cor4_1*C + cor4_2*B)\n",
    "    expr = LHS - RHS\n",
    "    x2val = solve(expr,x2)\n",
    "    print(x2val)"
   ]
  }
 ],
 "metadata": {
  "kernelspec": {
   "display_name": "Python 3",
   "language": "python",
   "name": "python3"
  },
  "language_info": {
   "codemirror_mode": {
    "name": "ipython",
    "version": 3
   },
   "file_extension": ".py",
   "mimetype": "text/x-python",
   "name": "python",
   "nbconvert_exporter": "python",
   "pygments_lexer": "ipython3",
   "version": "3.7.2"
  }
 },
 "nbformat": 4,
 "nbformat_minor": 2
}
