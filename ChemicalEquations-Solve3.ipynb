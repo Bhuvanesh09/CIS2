{
 "cells": [
  {
   "cell_type": "markdown",
   "metadata": {},
   "source": [
    "# Quiz 2 : Continuation \n",
    "## S.Bhuvanesh\n",
    "## 2018113002"
   ]
  },
  {
   "cell_type": "code",
   "execution_count": 1,
   "metadata": {},
   "outputs": [],
   "source": [
    "import numpy as np\n",
    "import sympy\n",
    "import scipy.linalg\n",
    "import re #RegEx : To convert string into workable form\n",
    "import math"
   ]
  },
  {
   "cell_type": "markdown",
   "metadata": {},
   "source": [
    "# Solve a given chemical equation"
   ]
  },
  {
   "cell_type": "markdown",
   "metadata": {},
   "source": [
    "## Task-1: Design a input scheme for the user to input a chemical equation that need to be balanced.\n",
    "\n"
   ]
  },
  {
   "cell_type": "code",
   "execution_count": 2,
   "metadata": {},
   "outputs": [
    {
     "name": "stdout",
     "output_type": "stream",
     "text": [
      "KClO3 + P4 = P4O10 + KCl\n"
     ]
    }
   ],
   "source": [
    "rawString = input()\n"
   ]
  },
  {
   "cell_type": "code",
   "execution_count": 3,
   "metadata": {},
   "outputs": [
    {
     "name": "stdout",
     "output_type": "stream",
     "text": [
      "KClO3 + P4 = P4O10 + KCl\n",
      "K\n",
      "Cl\n",
      "O3\n",
      "P4\n",
      "P4\n",
      "O10\n",
      "K\n",
      "Cl\n",
      "Elements :  ['Cl' 'K' 'O' 'P']\n",
      "LHS ['KClO3', 'P4']\n",
      "RHS ['P4O10', 'KCl']\n",
      "Components: ['P4', 'O10']\n",
      "Components: ['K', 'Cl']\n",
      "[[  1.   0.  -0.  -1.]\n",
      " [  1.   0.  -0.  -1.]\n",
      " [  3.   0. -10.  -0.]\n",
      " [  0.   4.  -4.  -0.]]\n"
     ]
    }
   ],
   "source": [
    "#First finding all the unique elements in the whole equation:\n",
    "print(rawString)\n",
    "rawString = rawString + \" \"\n",
    "temp=[]\n",
    "elements = re.findall(\"[A-Z][^A-Z^\\s]*\",rawString)\n",
    "for i in elements :\n",
    "    print(i)\n",
    "    '''if len(i) > 1 and (re.search(\"[^a-z]\",i[-1])) :\n",
    "        temp = np.append(temp,i[:-1])\n",
    "    else :\n",
    "        temp = np.append(temp,i)'''\n",
    "    temp = np.append(temp,re.split('(\\d+)',i)[0])\n",
    "elements = np.unique(temp)\n",
    "\n",
    "print(\"Elements : \" , str(elements))\n",
    "noEle = elements.size # Number of unique elements in the equation\n",
    "\n",
    "#Let us assign a dimension number to each of the element present in the equation:\n",
    "dicEle = {}\n",
    "for i in range(noEle):\n",
    "    dicEle[elements[i]] = i\n",
    "\n",
    "\n",
    "#Now each molecule in our equation would be represented by a noEle dimensional vector with value equal to the number\n",
    "# of atoms of that element in that molecule:\n",
    "\n",
    "#Spliting the input String into LHS and RHS :\n",
    "\n",
    "LHS = rawString.split('=')[0]\n",
    "RHS = rawString.split('=')[1]\n",
    "\n",
    "LHS = re.findall(\"[A-Za-z0-9]+\",LHS)\n",
    "print(\"LHS \" + str(LHS))\n",
    "\n",
    "\n",
    "RHS = re.findall(\"[A-Za-z0-9]+\",RHS)\n",
    "print(\"RHS \" + str(RHS))\n",
    "\n",
    "noLHS = len(LHS) #number of vectors in \n",
    "noRHS = len(RHS)\n",
    "\n",
    "#For Each reactant or molecule , let us declare an np.array as a vector\n",
    "temp = np.zeros(noEle)\n",
    "LHSvects = np.array([temp])\n",
    "RHSvects = np.array([temp])\n",
    "for i in range(noLHS):\n",
    "    tempVect = np.zeros((noEle))\n",
    "    tempVect = np.array([tempVect])\n",
    "    components = re.findall(\"[A-Z][^A-Z]*\" ,LHS[i])\n",
    "    for k in components:\n",
    "        if k[-1].isdigit():\n",
    "            tempVect[0][dicEle[re.split('(\\d+)',k)[0]]] = re.split('(\\d+)',k)[1]\n",
    "        else:\n",
    "            tempVect[0][dicEle[k]] = 1\n",
    "    LHSvects = np.append(LHSvects,tempVect,axis=0)\n",
    "LHSvects = LHSvects[1:]\n",
    "for i in range(noRHS):\n",
    "    tempVect = np.zeros(noEle)\n",
    "    tempVect = np.array([tempVect])\n",
    "    components = re.findall(\"[A-Z][^A-Z]*\" ,RHS[i])\n",
    "    print(\"Components: \" + str(components))\n",
    "    for k in components:\n",
    "        if k[-1].isdigit():\n",
    "            tempVect[0][dicEle[re.split('(\\d+)',k)[0]]] = re.split('(\\d+)',k)[1]\n",
    "        else:\n",
    "            tempVect[0][dicEle[k]] = 1\n",
    "    RHSvects = np.append(RHSvects,tempVect,axis=0)\n",
    "RHSvects = -RHSvects[1:]\n",
    "totalEqn = np.append(LHSvects,RHSvects,axis=0)\n",
    "totalEqn = np.transpose(totalEqn)\n",
    "LHSvects = np.transpose(LHSvects)\n",
    "RHSvects = np.transpose(RHSvects)\n",
    "#print(LHSvects)\n",
    "#print(RHSvects)\n",
    "print(totalEqn)\n"
   ]
  },
  {
   "cell_type": "code",
   "execution_count": null,
   "metadata": {},
   "outputs": [],
   "source": []
  },
  {
   "cell_type": "markdown",
   "metadata": {},
   "source": [
    "## Task-2: From the input, get into a form that is suitable for mathematical manipulations\n",
    "\n",
    " HINT: consider using sympy.\n",
    "\n",
    "1. Lets say that you have atom types $A_1, A_2, \\cdots A_N$. \n",
    "2. Write each chemical component as a $N$ dimensional vector \n",
    "3. Suppose the balanced the chemical reaction is where $R_i$ are reactants and $P_i$ are products, and we require that $r_i$ and $p_i$ be integers... \n",
    "$$ r_1 R_1 + r_2 R_2 +\\cdots - (p_1 P_1 + p_1 P_2 ) = 0$$ \n",
    "3. Set up a system of $N$ simulatneous equations, and solve for it to get $r_i$ and $p_i$\n",
    "4. What are the conditions under which there is NO solution? "
   ]
  },
  {
   "cell_type": "code",
   "execution_count": 4,
   "metadata": {},
   "outputs": [
    {
     "name": "stdout",
     "output_type": "stream",
     "text": [
      "[[-0.67728546]\n",
      " [-0.20318564]\n",
      " [-0.20318564]\n",
      " [-0.67728546]]\n",
      "[[1. ]\n",
      " [0.3]\n",
      " [0.3]\n",
      " [1. ]]\n"
     ]
    }
   ],
   "source": [
    "#Now we have converted the problem into a mathematical problem of finding a NULLSPACE of the matrix transformation\n",
    "#Given by the matrix totalEqn \n",
    "soln = scipy.linalg.null_space(totalEqn)\n",
    "print(soln)\n",
    "#Now by solving that system of linear Equations, we have found the ratio in which the molecules are supposed to be..\n",
    "# We are required to convert them in integral form\n",
    "soln = soln/min(soln)\n",
    "print(soln)"
   ]
  },
  {
   "cell_type": "code",
   "execution_count": 5,
   "metadata": {},
   "outputs": [
    {
     "name": "stdout",
     "output_type": "stream",
     "text": [
      "[[1.  0.3 0.3 1. ]]\n",
      "[[1. ]\n",
      " [0.3]\n",
      " [0.3]\n",
      " [1. ]]\n"
     ]
    }
   ],
   "source": [
    "print(np.transpose(soln))\n",
    "print(soln)\n",
    "soln = np.transpose(soln)"
   ]
  },
  {
   "cell_type": "code",
   "execution_count": 9,
   "metadata": {},
   "outputs": [],
   "source": [
    "#Now we try to find the smallest ratio in which every thing is integral:\n",
    "def isInt(x):\n",
    "    bo = True\n",
    "    for i in x[0]:\n",
    "        bo = bo and (math.ceil(i)-i < 0.00001 or i-math.floor(i) < 0.00001)\n",
    "    return bo\n",
    "for i in range(2,101):\n",
    "    tempSoln = soln * i \n",
    "    if isInt(tempSoln):\n",
    "        soln = tempSoln\n",
    "        break"
   ]
  },
  {
   "cell_type": "markdown",
   "metadata": {},
   "source": [
    "## Task-3: Using the solution above, output the balanced equation"
   ]
  },
  {
   "cell_type": "code",
   "execution_count": null,
   "metadata": {},
   "outputs": [],
   "source": [
    "#Now We simply output the above solution as the coefficients in the string"
   ]
  },
  {
   "cell_type": "code",
   "execution_count": 10,
   "metadata": {},
   "outputs": [
    {
     "name": "stdout",
     "output_type": "stream",
     "text": [
      "10 KClO3 + 3 P4 = 3 P4O10 + 10 KCl\n"
     ]
    }
   ],
   "source": [
    "output = \"\"\n",
    "countComp = 0\n",
    "for i in range(noLHS) :\n",
    "    if i!= 0 :\n",
    "        output += \" + \"\n",
    "    output += (str(int(np.rint(soln[0][countComp])))+ \" \" + LHS[i] )\n",
    "    countComp += 1\n",
    "output += \" = \"\n",
    "for i in range(noRHS) :\n",
    "    if i!= 0 :\n",
    "        output += \" + \"\n",
    "    output += (str(int(np.rint(soln[0][countComp]))) + \" \" + RHS[i])\n",
    "    countComp += 1\n",
    "print(output)"
   ]
  },
  {
   "cell_type": "markdown",
   "metadata": {},
   "source": [
    "## Task-4: If the above is working, can you wrap the whole program in a single function, which will take the input and give the proper output?\n",
    "\n",
    "Given the string 'eqn', the output of the function that you will write, called BalanceChemicalEquation(eqn), will be the balanced chemical equation or a proper error"
   ]
  },
  {
   "cell_type": "code",
   "execution_count": null,
   "metadata": {},
   "outputs": [],
   "source": []
  }
 ],
 "metadata": {
  "kernelspec": {
   "display_name": "Python 3",
   "language": "python",
   "name": "python3"
  },
  "language_info": {
   "codemirror_mode": {
    "name": "ipython",
    "version": 3
   },
   "file_extension": ".py",
   "mimetype": "text/x-python",
   "name": "python",
   "nbconvert_exporter": "python",
   "pygments_lexer": "ipython3",
   "version": "3.7.2"
  }
 },
 "nbformat": 4,
 "nbformat_minor": 2
}
